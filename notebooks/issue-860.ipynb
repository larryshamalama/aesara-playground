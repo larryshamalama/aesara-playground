{
 "cells": [
  {
   "cell_type": "code",
   "execution_count": 1,
   "id": "a0056843",
   "metadata": {},
   "outputs": [],
   "source": [
    "import numpy as np\n",
    "import aesara\n",
    "import aesara.tensor as at"
   ]
  },
  {
   "cell_type": "code",
   "execution_count": 2,
   "id": "720c8f8e",
   "metadata": {},
   "outputs": [],
   "source": [
    "x_test = np.array(\n",
    "    [\n",
    "        [i**2 for i in range(1, 100)],\n",
    "        [i**3 for i in range(1, 100)]\n",
    "    ]\n",
    ")\n",
    "\n",
    "x_test = np.broadcast_to(np.expand_dims(x_test, axis=[-1, -2]), shape=tuple(x_test.shape) + (5, 3))\n",
    "x = getattr(at, f\"tensor{x_test.ndim}\")(\"x\")\n",
    "\n",
    "def new_diff(x, n=1, axis=-1):\n",
    "    \n",
    "    nd = x.ndim\n",
    "    if nd == 0:\n",
    "        raise ValueError(\"diff requires the input to be at least one-dimensional\")\n",
    "    if n >= nd:\n",
    "        raise ValueError(f\"There are not enough dimensions for n={n}\")\n",
    "        \n",
    "    slice1 = [slice(None)] * nd\n",
    "    slice2 = [slice(None)] * nd\n",
    "    slice1[axis] = slice(1, None)\n",
    "    slice2[axis] = slice(None, -1)\n",
    "    slice1 = tuple(slice1)\n",
    "    slice2 = tuple(slice2)\n",
    "    \n",
    "    for _ in range(n):\n",
    "        x = x[slice1] - x[slice2]\n",
    "    \n",
    "    return x"
   ]
  },
  {
   "cell_type": "code",
   "execution_count": 3,
   "id": "f6e56b46",
   "metadata": {},
   "outputs": [],
   "source": [
    "for n in [1, 2, 3]:\n",
    "    for axis in [0, 1, 2, -1]:\n",
    "\n",
    "        f1 = aesara.function([x], at.diff(x, n, axis))\n",
    "        f2 = aesara.function([x], new_diff(x, n, axis))\n",
    "        \n",
    "        assert np.allclose(f1(x_test), f2(x_test))"
   ]
  },
  {
   "cell_type": "code",
   "execution_count": 4,
   "id": "033a9c1b",
   "metadata": {},
   "outputs": [
    {
     "name": "stdout",
     "output_type": "stream",
     "text": [
      "39.6 µs ± 345 ns per loop (mean ± std. dev. of 7 runs, 10,000 loops each)\n"
     ]
    }
   ],
   "source": [
    "%timeit -n 10_000 f1(x_test)"
   ]
  },
  {
   "cell_type": "code",
   "execution_count": 5,
   "id": "9cf31241",
   "metadata": {},
   "outputs": [
    {
     "name": "stdout",
     "output_type": "stream",
     "text": [
      "29.6 µs ± 236 ns per loop (mean ± std. dev. of 7 runs, 10,000 loops each)\n"
     ]
    }
   ],
   "source": [
    "%timeit -n 10_000 f2(x_test)"
   ]
  },
  {
   "cell_type": "code",
   "execution_count": null,
   "id": "99a6b036",
   "metadata": {},
   "outputs": [],
   "source": []
  }
 ],
 "metadata": {
  "kernelspec": {
   "display_name": "pymc-dev-py39",
   "language": "python",
   "name": "pymc-dev-py39"
  },
  "language_info": {
   "codemirror_mode": {
    "name": "ipython",
    "version": 3
   },
   "file_extension": ".py",
   "mimetype": "text/x-python",
   "name": "python",
   "nbconvert_exporter": "python",
   "pygments_lexer": "ipython3",
   "version": "3.9.10"
  }
 },
 "nbformat": 4,
 "nbformat_minor": 5
}
