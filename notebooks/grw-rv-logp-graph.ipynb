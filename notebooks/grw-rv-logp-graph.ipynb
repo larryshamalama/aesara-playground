{
 "cells": [
  {
   "cell_type": "code",
   "execution_count": 1,
   "id": "94d098d5",
   "metadata": {},
   "outputs": [],
   "source": [
    "import numpy as np\n",
    "\n",
    "import pymc as pm\n",
    "from aesara.graph import FunctionGraph, optimize_graph\n",
    "from aesara.tensor.basic_opt import ShapeFeature, topo_constant_folding\n",
    "\n",
    "import aesara\n",
    "import aesara.tensor as at\n",
    "\n",
    "from aeppl import factorized_joint_logprob"
   ]
  },
  {
   "cell_type": "code",
   "execution_count": 2,
   "id": "8785c415",
   "metadata": {},
   "outputs": [
    {
     "ename": "ValueError",
     "evalue": "Random variables detected in the logp graph: [normal_rv{0, (0, 0), floatX, False}.out].\nThis can happen when DensityDist logp or Interval transform functions reference nonlocal variables.",
     "output_type": "error",
     "traceback": [
      "\u001b[0;31m---------------------------------------------------------------------------\u001b[0m",
      "\u001b[0;31mValueError\u001b[0m                                Traceback (most recent call last)",
      "Input \u001b[0;32mIn [2]\u001b[0m, in \u001b[0;36m<cell line: 1>\u001b[0;34m()\u001b[0m\n\u001b[1;32m      1\u001b[0m \u001b[38;5;28;01mwith\u001b[39;00m pm\u001b[38;5;241m.\u001b[39mModel() \u001b[38;5;28;01mas\u001b[39;00m model:\n\u001b[1;32m      2\u001b[0m     grw \u001b[38;5;241m=\u001b[39m pm\u001b[38;5;241m.\u001b[39mGaussianRandomWalk(\n\u001b[1;32m      3\u001b[0m         name\u001b[38;5;241m=\u001b[39m\u001b[38;5;124m\"\u001b[39m\u001b[38;5;124mgrw\u001b[39m\u001b[38;5;124m\"\u001b[39m, \n\u001b[1;32m      4\u001b[0m         mu\u001b[38;5;241m=\u001b[39m\u001b[38;5;241m0\u001b[39m, \n\u001b[0;32m   (...)\u001b[0m\n\u001b[1;32m      8\u001b[0m         size\u001b[38;5;241m=\u001b[39m\u001b[38;5;28;01mNone\u001b[39;00m,\n\u001b[1;32m      9\u001b[0m     )\n\u001b[0;32m---> 11\u001b[0m     trace \u001b[38;5;241m=\u001b[39m \u001b[43mpm\u001b[49m\u001b[38;5;241;43m.\u001b[39;49m\u001b[43msample\u001b[49m\u001b[43m(\u001b[49m\u001b[43mchains\u001b[49m\u001b[38;5;241;43m=\u001b[39;49m\u001b[38;5;241;43m1\u001b[39;49m\u001b[43m)\u001b[49m\n",
      "File \u001b[0;32m~/Documents/GitHub/pymc/pymc/sampling.py:524\u001b[0m, in \u001b[0;36msample\u001b[0;34m(draws, step, init, n_init, initvals, trace, chain_idx, chains, cores, tune, progressbar, model, random_seed, discard_tuned_samples, compute_convergence_checks, callback, jitter_max_retries, return_inferencedata, idata_kwargs, mp_ctx, **kwargs)\u001b[0m\n\u001b[1;32m    521\u001b[0m         auto_nuts_init \u001b[38;5;241m=\u001b[39m \u001b[38;5;28;01mFalse\u001b[39;00m\n\u001b[1;32m    523\u001b[0m initial_points \u001b[38;5;241m=\u001b[39m \u001b[38;5;28;01mNone\u001b[39;00m\n\u001b[0;32m--> 524\u001b[0m step \u001b[38;5;241m=\u001b[39m \u001b[43massign_step_methods\u001b[49m\u001b[43m(\u001b[49m\u001b[43mmodel\u001b[49m\u001b[43m,\u001b[49m\u001b[43m \u001b[49m\u001b[43mstep\u001b[49m\u001b[43m,\u001b[49m\u001b[43m \u001b[49m\u001b[43mmethods\u001b[49m\u001b[38;5;241;43m=\u001b[39;49m\u001b[43mpm\u001b[49m\u001b[38;5;241;43m.\u001b[39;49m\u001b[43mSTEP_METHODS\u001b[49m\u001b[43m,\u001b[49m\u001b[43m \u001b[49m\u001b[43mstep_kwargs\u001b[49m\u001b[38;5;241;43m=\u001b[39;49m\u001b[43mkwargs\u001b[49m\u001b[43m)\u001b[49m\n\u001b[1;32m    526\u001b[0m \u001b[38;5;28;01mif\u001b[39;00m \u001b[38;5;28misinstance\u001b[39m(step, \u001b[38;5;28mlist\u001b[39m):\n\u001b[1;32m    527\u001b[0m     step \u001b[38;5;241m=\u001b[39m CompoundStep(step)\n",
      "File \u001b[0;32m~/Documents/GitHub/pymc/pymc/sampling.py:207\u001b[0m, in \u001b[0;36massign_step_methods\u001b[0;34m(model, step, methods, step_kwargs)\u001b[0m\n\u001b[1;32m    204\u001b[0m \u001b[38;5;66;03m# Use competence classmethods to select step methods for remaining\u001b[39;00m\n\u001b[1;32m    205\u001b[0m \u001b[38;5;66;03m# variables\u001b[39;00m\n\u001b[1;32m    206\u001b[0m selected_steps \u001b[38;5;241m=\u001b[39m defaultdict(\u001b[38;5;28mlist\u001b[39m)\n\u001b[0;32m--> 207\u001b[0m model_logp \u001b[38;5;241m=\u001b[39m \u001b[43mmodel\u001b[49m\u001b[38;5;241;43m.\u001b[39;49m\u001b[43mlogp\u001b[49m\u001b[43m(\u001b[49m\u001b[43m)\u001b[49m\n\u001b[1;32m    209\u001b[0m \u001b[38;5;28;01mfor\u001b[39;00m var \u001b[38;5;129;01min\u001b[39;00m model\u001b[38;5;241m.\u001b[39mvalue_vars:\n\u001b[1;32m    210\u001b[0m     \u001b[38;5;28;01mif\u001b[39;00m var \u001b[38;5;129;01mnot\u001b[39;00m \u001b[38;5;129;01min\u001b[39;00m assigned_vars:\n\u001b[1;32m    211\u001b[0m         \u001b[38;5;66;03m# determine if a gradient can be computed\u001b[39;00m\n",
      "File \u001b[0;32m~/Documents/GitHub/pymc/pymc/model.py:753\u001b[0m, in \u001b[0;36mModel.logp\u001b[0;34m(self, vars, jacobian, sum)\u001b[0m\n\u001b[1;32m    751\u001b[0m rv_logps: List[TensorVariable] \u001b[38;5;241m=\u001b[39m []\n\u001b[1;32m    752\u001b[0m \u001b[38;5;28;01mif\u001b[39;00m rv_values:\n\u001b[0;32m--> 753\u001b[0m     rv_logps \u001b[38;5;241m=\u001b[39m \u001b[43mjoint_logp\u001b[49m\u001b[43m(\u001b[49m\u001b[38;5;28;43mlist\u001b[39;49m\u001b[43m(\u001b[49m\u001b[43mrv_values\u001b[49m\u001b[38;5;241;43m.\u001b[39;49m\u001b[43mkeys\u001b[49m\u001b[43m(\u001b[49m\u001b[43m)\u001b[49m\u001b[43m)\u001b[49m\u001b[43m,\u001b[49m\u001b[43m \u001b[49m\u001b[43mrv_values\u001b[49m\u001b[43m,\u001b[49m\u001b[43m \u001b[49m\u001b[38;5;28;43msum\u001b[39;49m\u001b[38;5;241;43m=\u001b[39;49m\u001b[38;5;28;43;01mFalse\u001b[39;49;00m\u001b[43m,\u001b[49m\u001b[43m \u001b[49m\u001b[43mjacobian\u001b[49m\u001b[38;5;241;43m=\u001b[39;49m\u001b[43mjacobian\u001b[49m\u001b[43m)\u001b[49m\n\u001b[1;32m    754\u001b[0m     \u001b[38;5;28;01massert\u001b[39;00m \u001b[38;5;28misinstance\u001b[39m(rv_logps, \u001b[38;5;28mlist\u001b[39m)\n\u001b[1;32m    756\u001b[0m \u001b[38;5;66;03m# Replace random variables by their value variables in potential terms\u001b[39;00m\n",
      "File \u001b[0;32m~/Documents/GitHub/pymc/pymc/distributions/logprob.py:257\u001b[0m, in \u001b[0;36mjoint_logp\u001b[0;34m(var, rv_values, jacobian, scaling, transformed, sum, **kwargs)\u001b[0m\n\u001b[1;32m    247\u001b[0m unexpected_rv_nodes \u001b[38;5;241m=\u001b[39m [\n\u001b[1;32m    248\u001b[0m     node\n\u001b[1;32m    249\u001b[0m     \u001b[38;5;28;01mfor\u001b[39;00m node \u001b[38;5;129;01min\u001b[39;00m aesara\u001b[38;5;241m.\u001b[39mgraph\u001b[38;5;241m.\u001b[39mancestors(\u001b[38;5;28mlist\u001b[39m(temp_logp_var_dict\u001b[38;5;241m.\u001b[39mvalues()))\n\u001b[0;32m   (...)\u001b[0m\n\u001b[1;32m    254\u001b[0m     )\n\u001b[1;32m    255\u001b[0m ]\n\u001b[1;32m    256\u001b[0m \u001b[38;5;28;01mif\u001b[39;00m unexpected_rv_nodes:\n\u001b[0;32m--> 257\u001b[0m     \u001b[38;5;28;01mraise\u001b[39;00m \u001b[38;5;167;01mValueError\u001b[39;00m(\n\u001b[1;32m    258\u001b[0m         \u001b[38;5;124mf\u001b[39m\u001b[38;5;124m\"\u001b[39m\u001b[38;5;124mRandom variables detected in the logp graph: \u001b[39m\u001b[38;5;132;01m{\u001b[39;00munexpected_rv_nodes\u001b[38;5;132;01m}\u001b[39;00m\u001b[38;5;124m.\u001b[39m\u001b[38;5;130;01m\\n\u001b[39;00m\u001b[38;5;124m\"\u001b[39m\n\u001b[1;32m    259\u001b[0m         \u001b[38;5;124m\"\u001b[39m\u001b[38;5;124mThis can happen when DensityDist logp or Interval transform functions \u001b[39m\u001b[38;5;124m\"\u001b[39m\n\u001b[1;32m    260\u001b[0m         \u001b[38;5;124m\"\u001b[39m\u001b[38;5;124mreference nonlocal variables.\u001b[39m\u001b[38;5;124m\"\u001b[39m\n\u001b[1;32m    261\u001b[0m     )\n\u001b[1;32m    263\u001b[0m \u001b[38;5;66;03m# aeppl returns the logp for every single value term we provided to it. This includes\u001b[39;00m\n\u001b[1;32m    264\u001b[0m \u001b[38;5;66;03m# the extra values we plugged in above, so we filter those we actually wanted in the\u001b[39;00m\n\u001b[1;32m    265\u001b[0m \u001b[38;5;66;03m# same order they were given in.\u001b[39;00m\n\u001b[1;32m    266\u001b[0m logp_var_dict \u001b[38;5;241m=\u001b[39m {}\n",
      "\u001b[0;31mValueError\u001b[0m: Random variables detected in the logp graph: [normal_rv{0, (0, 0), floatX, False}.out].\nThis can happen when DensityDist logp or Interval transform functions reference nonlocal variables."
     ]
    }
   ],
   "source": [
    "with pm.Model() as model:\n",
    "    grw = pm.GaussianRandomWalk(\n",
    "        name=\"grw\", \n",
    "        mu=0, \n",
    "        sigma=1, \n",
    "        init_dist=pm.StudentT.dist(5), \n",
    "        steps=10, \n",
    "        size=None,\n",
    "    )\n",
    "    \n",
    "    trace = pm.sample(chains=1)"
   ]
  },
  {
   "cell_type": "code",
   "execution_count": 3,
   "id": "c5747407",
   "metadata": {},
   "outputs": [
    {
     "name": "stdout",
     "output_type": "stream",
     "text": [
      "CumOp{-1, add} [id A] 'grw'\n",
      " |Join [id B]\n",
      "   |TensorConstant{0} [id C]\n",
      "   |InplaceDimShuffle{x} [id D]\n",
      "   | |studentt_rv{0, (0, 0, 0), floatX, False}.1 [id E]\n",
      "   |   |RandomGeneratorSharedVariable(<Generator(PCG64) at 0x16B689120>) [id F]\n",
      "   |   |TensorConstant{[]} [id G]\n",
      "   |   |TensorConstant{11} [id H]\n",
      "   |   |TensorConstant{5.0} [id I]\n",
      "   |   |TensorConstant{0} [id J]\n",
      "   |   |TensorConstant{1.0} [id K]\n",
      "   |normal_rv{0, (0, 0), floatX, False}.1 [id L]\n",
      "     |RandomGeneratorSharedVariable(<Generator(PCG64) at 0x16B689900>) [id M]\n",
      "     |SpecifyShape [id N]\n",
      "     | |Elemwise{Cast{int64}} [id O]\n",
      "     | | |TensorConstant{(1,) of 10} [id P]\n",
      "     | |TensorConstant{1} [id Q]\n",
      "     |TensorConstant{11} [id R]\n",
      "     |InplaceDimShuffle{x} [id S]\n",
      "     | |TensorConstant{0.0} [id T]\n",
      "     |InplaceDimShuffle{x} [id U]\n",
      "       |TensorConstant{1.0} [id V]\n"
     ]
    },
    {
     "data": {
      "text/plain": [
       "<ipykernel.iostream.OutStream at 0x10d6545b0>"
      ]
     },
     "execution_count": 3,
     "metadata": {},
     "output_type": "execute_result"
    }
   ],
   "source": [
    "aesara.dprint(grw)"
   ]
  },
  {
   "cell_type": "code",
   "execution_count": 4,
   "id": "5492c66c",
   "metadata": {},
   "outputs": [
    {
     "name": "stdout",
     "output_type": "stream",
     "text": [
      "Join [id A]\n",
      " |TensorConstant{0} [id B]\n",
      " |Check{lam > 0, nu > 0} [id C]\n",
      " | |Elemwise{sub,no_inplace} [id D]\n",
      " | | |Elemwise{sub,no_inplace} [id E]\n",
      " | | | |Elemwise{add,no_inplace} [id F]\n",
      " | | | | |Elemwise{gammaln,no_inplace} [id G]\n",
      " | | | | | |Elemwise{true_div,no_inplace} [id H]\n",
      " | | | | |   |Elemwise{add,no_inplace} [id I]\n",
      " | | | | |   | |TensorConstant{(1,) of 5.0} [id J]\n",
      " | | | | |   | |InplaceDimShuffle{x} [id K]\n",
      " | | | | |   |   |TensorConstant{1.0} [id L]\n",
      " | | | | |   |InplaceDimShuffle{x} [id M]\n",
      " | | | | |     |TensorConstant{2.0} [id N]\n",
      " | | | | |Elemwise{mul,no_inplace} [id O]\n",
      " | | | |   |InplaceDimShuffle{x} [id P]\n",
      " | | | |   | |TensorConstant{0.5} [id Q]\n",
      " | | | |   |Elemwise{log,no_inplace} [id R]\n",
      " | | | |     |Elemwise{true_div,no_inplace} [id S]\n",
      " | | | |       |Elemwise{pow,no_inplace} [id T]\n",
      " | | | |       | |Check{sigma > 0} [id U]\n",
      " | | | |       | | |TensorConstant{(1,) of 1.0} [id V]\n",
      " | | | |       | | |All [id W]\n",
      " | | | |       | |   |MakeVector{dtype='bool'} [id X]\n",
      " | | | |       | |     |All [id Y]\n",
      " | | | |       | |       |Elemwise{gt,no_inplace} [id Z]\n",
      " | | | |       | |         |TensorConstant{(1,) of 1.0} [id V]\n",
      " | | | |       | |         |InplaceDimShuffle{x} [id BA]\n",
      " | | | |       | |           |TensorConstant{0} [id BB]\n",
      " | | | |       | |InplaceDimShuffle{x} [id BC]\n",
      " | | | |       |   |TensorConstant{-2.0} [id BD]\n",
      " | | | |       |Elemwise{mul,no_inplace} [id BE]\n",
      " | | | |         |TensorConstant{(1,) of 5.0} [id J]\n",
      " | | | |         |InplaceDimShuffle{x} [id BF]\n",
      " | | | |           |TensorConstant{3.141592653589793} [id BG]\n",
      " | | | |Elemwise{gammaln,no_inplace} [id BH]\n",
      " | | |   |Elemwise{true_div,no_inplace} [id BI]\n",
      " | | |     |TensorConstant{(1,) of 5.0} [id J]\n",
      " | | |     |InplaceDimShuffle{x} [id BJ]\n",
      " | | |       |TensorConstant{2.0} [id BK]\n",
      " | | |Elemwise{mul,no_inplace} [id BL]\n",
      " | |   |Elemwise{true_div,no_inplace} [id BM]\n",
      " | |   | |Elemwise{add,no_inplace} [id BN]\n",
      " | |   | | |TensorConstant{(1,) of 5.0} [id J]\n",
      " | |   | | |InplaceDimShuffle{x} [id BO]\n",
      " | |   | |   |TensorConstant{1.0} [id BP]\n",
      " | |   | |InplaceDimShuffle{x} [id BQ]\n",
      " | |   |   |TensorConstant{2.0} [id BR]\n",
      " | |   |Elemwise{log1p,no_inplace} [id BS]\n",
      " | |     |Elemwise{true_div,no_inplace} [id BT]\n",
      " | |       |Elemwise{mul,no_inplace} [id BU]\n",
      " | |       | |Elemwise{pow,no_inplace} [id T]\n",
      " | |       | |Elemwise{pow,no_inplace} [id BV]\n",
      " | |       |   |Elemwise{sub,no_inplace} [id BW]\n",
      " | |       |   | |Split{2}.0 [id BX]\n",
      " | |       |   | | |Join [id BY]\n",
      " | |       |   | | | |TensorConstant{0} [id BZ]\n",
      " | |       |   | | | |InplaceDimShuffle{x} [id CA]\n",
      " | |       |   | | | | |Subtensor{int8} [id CB]\n",
      " | |       |   | | | |   |Alloc [id CC]\n",
      " | |       |   | | | |   | |TensorConstant{1.0} [id CD]\n",
      " | |       |   | | | |   | |TensorConstant{11} [id CE]\n",
      " | |       |   | | | |   |ScalarFromTensor [id CF]\n",
      " | |       |   | | | |     |TensorConstant{0} [id CG]\n",
      " | |       |   | | | |Elemwise{sub,no_inplace} [id CH]\n",
      " | |       |   | | |   |Subtensor{int64::} [id CI]\n",
      " | |       |   | | |   | |Alloc [id CC]\n",
      " | |       |   | | |   | |ScalarConstant{1} [id CJ]\n",
      " | |       |   | | |   |Subtensor{:int64:} [id CK]\n",
      " | |       |   | | |     |Alloc [id CC]\n",
      " | |       |   | | |     |ScalarConstant{-1} [id CL]\n",
      " | |       |   | | |TensorConstant{0} [id CM]\n",
      " | |       |   | | |MakeVector{dtype='int64'} [id CN]\n",
      " | |       |   | |   |Subtensor{int8} [id CO]\n",
      " | |       |   | |   | |TensorConstant{(1,) of 1} [id CP]\n",
      " | |       |   | |   | |ScalarFromTensor [id CQ]\n",
      " | |       |   | |   |   |TensorConstant{0} [id CM]\n",
      " | |       |   | |   |Subtensor{int8} [id CR]\n",
      " | |       |   | |     |Shape [id CS]\n",
      " | |       |   | |     | |normal_rv{0, (0, 0), floatX, False}.1 [id CT]\n",
      " | |       |   | |     |   |RandomGeneratorSharedVariable(<Generator(PCG64) at 0x16B689900>) [id CU]\n",
      " | |       |   | |     |   |TensorConstant{(1,) of 10} [id CV]\n",
      " | |       |   | |     |   |TensorConstant{11} [id CW]\n",
      " | |       |   | |     |   |TensorConstant{(1,) of 0.0} [id CX]\n",
      " | |       |   | |     |   |TensorConstant{(1,) of 1.0} [id V]\n",
      " | |       |   | |     |ScalarFromTensor [id CY]\n",
      " | |       |   | |       |TensorConstant{0} [id CM]\n",
      " | |       |   | |TensorConstant{(1,) of 0} [id CZ]\n",
      " | |       |   |InplaceDimShuffle{x} [id DA]\n",
      " | |       |     |TensorConstant{2} [id DB]\n",
      " | |       |TensorConstant{(1,) of 5.0} [id J]\n",
      " | |All [id DC]\n",
      " |   |MakeVector{dtype='bool'} [id DD]\n",
      " |     |All [id DE]\n",
      " |     | |Elemwise{gt,no_inplace} [id DF]\n",
      " |     |   |Elemwise{pow,no_inplace} [id T]\n",
      " |     |   |InplaceDimShuffle{x} [id DG]\n",
      " |     |     |TensorConstant{0} [id DH]\n",
      " |     |All [id DI]\n",
      " |       |Elemwise{gt,no_inplace} [id DJ]\n",
      " |         |TensorConstant{(1,) of 5.0} [id J]\n",
      " |         |InplaceDimShuffle{x} [id DK]\n",
      " |           |TensorConstant{0} [id DL]\n",
      " |Check{sigma > 0} [id DM]\n",
      "   |Elemwise{sub,no_inplace} [id DN]\n",
      "   | |Elemwise{sub,no_inplace} [id DO]\n",
      "   | | |Elemwise{mul,no_inplace} [id DP]\n",
      "   | | | |InplaceDimShuffle{x} [id DQ]\n",
      "   | | | | |TensorConstant{-0.5} [id DR]\n",
      "   | | | |Elemwise{pow,no_inplace} [id DS]\n",
      "   | | |   |Elemwise{true_div,no_inplace} [id DT]\n",
      "   | | |   | |Elemwise{sub,no_inplace} [id DU]\n",
      "   | | |   | | |Split{2}.1 [id BX]\n",
      "   | | |   | | |TensorConstant{(1,) of 0.0} [id CX]\n",
      "   | | |   | |TensorConstant{(1,) of 1.0} [id V]\n",
      "   | | |   |InplaceDimShuffle{x} [id DV]\n",
      "   | | |     |TensorConstant{2} [id DW]\n",
      "   | | |InplaceDimShuffle{x} [id DX]\n",
      "   | |   |Elemwise{log,no_inplace} [id DY]\n",
      "   | |     |Elemwise{sqrt,no_inplace} [id DZ]\n",
      "   | |       |TensorConstant{6.283185307179586} [id EA]\n",
      "   | |Elemwise{log,no_inplace} [id EB]\n",
      "   |   |TensorConstant{(1,) of 1.0} [id V]\n",
      "   |All [id EC]\n",
      "     |Elemwise{gt,no_inplace} [id ED]\n",
      "       |TensorConstant{(1,) of 1.0} [id V]\n",
      "       |InplaceDimShuffle{x} [id EE]\n",
      "         |TensorConstant{0.0} [id EF]\n"
     ]
    },
    {
     "data": {
      "text/plain": [
       "<ipykernel.iostream.OutStream at 0x10d6545b0>"
      ]
     },
     "execution_count": 4,
     "metadata": {},
     "output_type": "execute_result"
    }
   ],
   "source": [
    "aesara.dprint(pm.logp(grw, at.ones(11)))"
   ]
  },
  {
   "cell_type": "code",
   "execution_count": null,
   "id": "edde059e",
   "metadata": {},
   "outputs": [],
   "source": []
  }
 ],
 "metadata": {
  "kernelspec": {
   "display_name": "pymc-dev-py39",
   "language": "python",
   "name": "pymc-dev-py39"
  },
  "language_info": {
   "codemirror_mode": {
    "name": "ipython",
    "version": 3
   },
   "file_extension": ".py",
   "mimetype": "text/x-python",
   "name": "python",
   "nbconvert_exporter": "python",
   "pygments_lexer": "ipython3",
   "version": "3.9.12"
  }
 },
 "nbformat": 4,
 "nbformat_minor": 5
}
