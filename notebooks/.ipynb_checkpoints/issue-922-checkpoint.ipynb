{
 "cells": [
  {
   "cell_type": "code",
   "execution_count": 1,
   "id": "98743bd3",
   "metadata": {},
   "outputs": [],
   "source": [
    "import aesara\n",
    "import aesara.tensor as at\n",
    "\n",
    "from aesara import function, config\n",
    "\n",
    "import numpy as np"
   ]
  },
  {
   "cell_type": "code",
   "execution_count": 2,
   "id": "0ee5ef15",
   "metadata": {},
   "outputs": [
    {
     "name": "stdout",
     "output_type": "stream",
     "text": [
      "(ScalarConstant{1}, ScalarConstant{3}, ScalarConstant{1}, ScalarConstant{20}, ScalarConstant{2})\n",
      "Subtensor{int64:int64:, int64:int64:int64} [id A] <TensorType(float64, (None, None))> ''   \n",
      " |<TensorType(float64, (40, 30))> [id B] <TensorType(float64, (40, 30))>\n",
      " |ScalarConstant{1} [id C] <int64>\n",
      " |ScalarConstant{3} [id D] <int64>\n",
      " |ScalarConstant{1} [id E] <int64>\n",
      " |ScalarConstant{20} [id F] <int64>\n",
      " |ScalarConstant{2} [id G] <int64>\n"
     ]
    }
   ],
   "source": [
    "y = at.tensor(dtype=\"float64\", shape=(40, 30))\n",
    "a = y\n",
    "\n",
    "# We know that the shape of this should be equal to the shape of `y`\n",
    "z = y[1:3, slice(1, 20, 2)]\n",
    "\n",
    "_ = aesara.dprint(z, print_type=True)\n",
    "# Subtensor{::} [id A] <TensorType(float32, (None,))> ''   \n",
    "#  |<TensorType(float32, (3,))> [id B] <TensorType(float32, (3,))>\n",
    "\n",
    "z_grad = at.grad(z.sum(), wrt=y)"
   ]
  },
  {
   "cell_type": "code",
   "execution_count": 3,
   "id": "ee108777",
   "metadata": {},
   "outputs": [
    {
     "data": {
      "text/plain": [
       "(None, None)"
      ]
     },
     "execution_count": 3,
     "metadata": {},
     "output_type": "execute_result"
    }
   ],
   "source": [
    "z.type.shape"
   ]
  },
  {
   "cell_type": "code",
   "execution_count": 4,
   "id": "c7ea9783",
   "metadata": {},
   "outputs": [
    {
     "name": "stdout",
     "output_type": "stream",
     "text": [
      "IncSubtensor{Inc;int64:int64:, int64:int64:int64} [id A] ''   \n",
      " |Elemwise{second,no_inplace} [id B] ''   \n",
      " | |<TensorType(float64, (40, 30))> [id C]\n",
      " | |InplaceDimShuffle{x,x} [id D] ''   \n",
      " |   |TensorConstant{0.0} [id E]\n",
      " |Elemwise{second} [id F] ''   \n",
      " | |Subtensor{int64:int64:, int64:int64:int64} [id G] ''   \n",
      " | | |<TensorType(float64, (40, 30))> [id C]\n",
      " | | |ScalarConstant{1} [id H]\n",
      " | | |ScalarConstant{3} [id I]\n",
      " | | |ScalarConstant{1} [id J]\n",
      " | | |ScalarConstant{20} [id K]\n",
      " | | |ScalarConstant{2} [id L]\n",
      " | |InplaceDimShuffle{x,x} [id M] ''   \n",
      " |   |Elemwise{second,no_inplace} [id N] ''   \n",
      " |     |Sum{acc_dtype=float64} [id O] ''   \n",
      " |     | |Subtensor{int64:int64:, int64:int64:int64} [id G] ''   \n",
      " |     |TensorConstant{1.0} [id P]\n",
      " |ScalarConstant{1} [id H]\n",
      " |ScalarConstant{3} [id I]\n",
      " |ScalarConstant{1} [id J]\n",
      " |ScalarConstant{20} [id K]\n",
      " |ScalarConstant{2} [id L]\n"
     ]
    },
    {
     "data": {
      "text/plain": [
       "<ipykernel.iostream.OutStream at 0x10cd46920>"
      ]
     },
     "execution_count": 4,
     "metadata": {},
     "output_type": "execute_result"
    }
   ],
   "source": [
    "aesara.dprint(z_grad)"
   ]
  },
  {
   "cell_type": "code",
   "execution_count": 5,
   "id": "de90243f",
   "metadata": {},
   "outputs": [
    {
     "data": {
      "text/plain": [
       "array([[0., 0., 0., ..., 0., 0., 0.],\n",
       "       [0., 1., 0., ..., 0., 0., 0.],\n",
       "       [0., 1., 0., ..., 0., 0., 0.],\n",
       "       ...,\n",
       "       [0., 0., 0., ..., 0., 0., 0.],\n",
       "       [0., 0., 0., ..., 0., 0., 0.],\n",
       "       [0., 0., 0., ..., 0., 0., 0.]])"
      ]
     },
     "execution_count": 5,
     "metadata": {},
     "output_type": "execute_result"
    }
   ],
   "source": [
    "f_grad = function([y], z_grad)\n",
    "f_grad(np.ones(shape=(40, 30)))"
   ]
  },
  {
   "cell_type": "markdown",
   "id": "f6e07e2e",
   "metadata": {},
   "source": [
    "Test below taken from https://github.com/aesara-devs/aesara/blob/main/tests/tensor/test_basic.py#L2889-L2910"
   ]
  },
  {
   "cell_type": "code",
   "execution_count": 6,
   "id": "b4b11a82",
   "metadata": {},
   "outputs": [],
   "source": [
    "for inp, shape in [(at.type.scalar, ()), (at.type.vector, 3), (at.type.matrix, (3, 4))]:\n",
    "    fill_value = 5\n",
    "    dtype = config.floatX\n",
    "\n",
    "    x = inp(\"x\")\n",
    "    y = at.full_like(x, fill_value, dtype=dtype)\n",
    "\n",
    "    np.testing.assert_array_equal(\n",
    "        y.eval({x: np.zeros(shape, dtype=dtype)}),\n",
    "        np.full(shape, fill_value, dtype=dtype),\n",
    "    )"
   ]
  },
  {
   "cell_type": "code",
   "execution_count": 7,
   "id": "117badf1",
   "metadata": {},
   "outputs": [
    {
     "data": {
      "text/plain": [
       "array([[5., 5., 5., 5.],\n",
       "       [5., 5., 5., 5.],\n",
       "       [5., 5., 5., 5.]])"
      ]
     },
     "execution_count": 7,
     "metadata": {},
     "output_type": "execute_result"
    }
   ],
   "source": [
    "y.eval({x: np.zeros(shape, dtype=dtype)})"
   ]
  },
  {
   "cell_type": "code",
   "execution_count": null,
   "id": "d5174a04",
   "metadata": {},
   "outputs": [],
   "source": []
  }
 ],
 "metadata": {
  "kernelspec": {
   "display_name": "aesara-dev",
   "language": "python",
   "name": "aesara-dev"
  },
  "language_info": {
   "codemirror_mode": {
    "name": "ipython",
    "version": 3
   },
   "file_extension": ".py",
   "mimetype": "text/x-python",
   "name": "python",
   "nbconvert_exporter": "python",
   "pygments_lexer": "ipython3",
   "version": "3.10.4"
  }
 },
 "nbformat": 4,
 "nbformat_minor": 5
}
