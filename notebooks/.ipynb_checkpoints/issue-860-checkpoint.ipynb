{
 "cells": [
  {
   "cell_type": "code",
   "execution_count": 1,
   "id": "c8a00c6c",
   "metadata": {},
   "outputs": [],
   "source": [
    "import numpy as np\n",
    "import aesara\n",
    "import aesara.tensor as at"
   ]
  },
  {
   "cell_type": "code",
   "execution_count": 2,
   "id": "0c87076a",
   "metadata": {},
   "outputs": [],
   "source": [
    "x = at.matrix(\"x\")\n",
    "\n",
    "x_test = np.array(\n",
    "    [\n",
    "        [i**2 for i in range(1, 100)],\n",
    "        [i**3 for i in range(1, 100)]\n",
    "    ]\n",
    ")\n",
    "\n",
    "n = 2\n",
    "axis = -1"
   ]
  },
  {
   "cell_type": "code",
   "execution_count": 3,
   "id": "449d2672",
   "metadata": {},
   "outputs": [],
   "source": [
    "f1 = aesara.function([x], at.diff(x, n=n))\n",
    "\n",
    "def f2(x, n):\n",
    "    for _ in range(n):\n",
    "        # here axis = -1\n",
    "        x = x[..., 1:] - x[..., :-1]\n",
    "        \n",
    "    return x\n",
    "\n",
    "f2 = aesara.function([x], f2(x, n=2))"
   ]
  },
  {
   "cell_type": "code",
   "execution_count": 4,
   "id": "19050287",
   "metadata": {},
   "outputs": [
    {
     "name": "stdout",
     "output_type": "stream",
     "text": [
      "23.7 µs ± 419 ns per loop (mean ± std. dev. of 7 runs, 10,000 loops each)\n"
     ]
    }
   ],
   "source": [
    "%timeit -n 10_000 f1(x_test)"
   ]
  },
  {
   "cell_type": "code",
   "execution_count": 5,
   "id": "b084610f",
   "metadata": {},
   "outputs": [
    {
     "name": "stdout",
     "output_type": "stream",
     "text": [
      "17.2 µs ± 183 ns per loop (mean ± std. dev. of 7 runs, 10,000 loops each)\n"
     ]
    }
   ],
   "source": [
    "%timeit -n 10_000 f2(x_test)"
   ]
  },
  {
   "cell_type": "code",
   "execution_count": null,
   "id": "ac759acd",
   "metadata": {},
   "outputs": [],
   "source": []
  }
 ],
 "metadata": {
  "kernelspec": {
   "display_name": "pymc-dev-py39",
   "language": "python",
   "name": "pymc-dev-py39"
  },
  "language_info": {
   "codemirror_mode": {
    "name": "ipython",
    "version": 3
   },
   "file_extension": ".py",
   "mimetype": "text/x-python",
   "name": "python",
   "nbconvert_exporter": "python",
   "pygments_lexer": "ipython3",
   "version": "3.9.10"
  }
 },
 "nbformat": 4,
 "nbformat_minor": 5
}
