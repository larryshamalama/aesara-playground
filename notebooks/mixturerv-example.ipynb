{
 "cells": [
  {
   "cell_type": "code",
   "execution_count": 1,
   "id": "9b3d35ae",
   "metadata": {},
   "outputs": [],
   "source": [
    "import aesara\n",
    "from aesara import tensor as at\n",
    "\n",
    "from aeppl import joint_logprob, pprint\n",
    "\n",
    "from aesara.graph.opt_utils import optimize_graph\n",
    "from aesara.tensor.basic_opt import topo_constant_folding"
   ]
  },
  {
   "cell_type": "code",
   "execution_count": 2,
   "id": "06f6b01f",
   "metadata": {},
   "outputs": [
    {
     "name": "stdout",
     "output_type": "stream",
     "text": [
      "i_logprob in R, z_logprob in R**(N^z_logprob_0)\n",
      "sum([float64(i_logprob), sum(z_logprob, axis=None)], axis=None)\n"
     ]
    }
   ],
   "source": [
    "Z_rv = at.random.normal([-100, 100], 1.0, name=\"Z\")\n",
    "I_rv = at.random.bernoulli(0.5, name=\"I\")\n",
    "\n",
    "M_rv = Z_rv[I_rv]\n",
    "M_rv.name = \"M\"\n",
    "\n",
    "z = at.vector(\"z\")\n",
    "i = at.lscalar(\"i\")\n",
    "m = at.scalar(\"m\")\n",
    "# Compute the joint log-probability for the mixture\n",
    "logprob = joint_logprob({M_rv: m, Z_rv: z, I_rv: i})\n",
    "\n",
    "\n",
    "logprob = optimize_graph(logprob, custom_opt=topo_constant_folding)\n",
    "\n",
    "print(pprint(logprob))"
   ]
  },
  {
   "cell_type": "code",
   "execution_count": null,
   "id": "c835739f",
   "metadata": {},
   "outputs": [],
   "source": []
  }
 ],
 "metadata": {
  "kernelspec": {
   "display_name": "pymc-dev-py39",
   "language": "python",
   "name": "pymc-dev-py39"
  },
  "language_info": {
   "codemirror_mode": {
    "name": "ipython",
    "version": 3
   },
   "file_extension": ".py",
   "mimetype": "text/x-python",
   "name": "python",
   "nbconvert_exporter": "python",
   "pygments_lexer": "ipython3",
   "version": "3.9.12"
  }
 },
 "nbformat": 4,
 "nbformat_minor": 5
}
